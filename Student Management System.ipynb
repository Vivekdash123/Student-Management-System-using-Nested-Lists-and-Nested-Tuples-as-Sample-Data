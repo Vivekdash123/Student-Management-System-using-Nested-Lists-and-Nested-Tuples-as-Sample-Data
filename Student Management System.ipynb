{
 "cells": [
  {
   "cell_type": "code",
   "execution_count": 1,
   "id": "2fdb5aeb-deb9-4a0a-9a56-ccd7caf4fa09",
   "metadata": {},
   "outputs": [
    {
     "name": "stdout",
     "output_type": "stream",
     "text": [
      "\n",
      "--- Student Management System Menu ---\n",
      "1. Display All Student Details\n",
      "2. Calculate Average Marks for a Student\n",
      "3. Generate Report Card for All Students\n",
      "4. Exit\n"
     ]
    },
    {
     "name": "stdin",
     "output_type": "stream",
     "text": [
      "Enter your choice (1/2/3/4):  1\n"
     ]
    },
    {
     "name": "stdout",
     "output_type": "stream",
     "text": [
      "\n",
      "--- Student Details ---\n",
      "Name: Alice\n",
      "Math: 85\n",
      "Science: 90\n",
      "History: 88\n",
      "\n",
      "Name: Bob\n",
      "Math: 78\n",
      "Science: 82\n",
      "English: 80\n",
      "\n",
      "Name: Charlie\n",
      "Math: 92\n",
      "History: 85\n",
      "Geography: 88\n",
      "\n",
      "Name: Diana\n",
      "Math: 80\n",
      "Science: 87\n",
      "English: 85\n",
      "\n",
      "\n",
      "--- Student Management System Menu ---\n",
      "1. Display All Student Details\n",
      "2. Calculate Average Marks for a Student\n",
      "3. Generate Report Card for All Students\n",
      "4. Exit\n"
     ]
    },
    {
     "name": "stdin",
     "output_type": "stream",
     "text": [
      "Enter your choice (1/2/3/4):  2\n",
      "Enter the student's name:  Diana\n"
     ]
    },
    {
     "name": "stdout",
     "output_type": "stream",
     "text": [
      "\n",
      "Average marks for Diana: 84.00\n",
      "\n",
      "--- Student Management System Menu ---\n",
      "1. Display All Student Details\n",
      "2. Calculate Average Marks for a Student\n",
      "3. Generate Report Card for All Students\n",
      "4. Exit\n"
     ]
    },
    {
     "name": "stdin",
     "output_type": "stream",
     "text": [
      "Enter your choice (1/2/3/4):  3\n"
     ]
    },
    {
     "name": "stdout",
     "output_type": "stream",
     "text": [
      "\n",
      "--- Report Card ---\n",
      "\n",
      "Alice's Report Card\n",
      "Total Marks: 263\n",
      "Subjects and Marks:\n",
      "Math: 85\n",
      "Science: 90\n",
      "History: 88\n",
      "Average Marks: 87.67\n",
      "------------\n",
      "\n",
      "Bob's Report Card\n",
      "Total Marks: 240\n",
      "Subjects and Marks:\n",
      "Math: 78\n",
      "Science: 82\n",
      "English: 80\n",
      "Average Marks: 80.00\n",
      "------------\n",
      "\n",
      "Charlie's Report Card\n",
      "Total Marks: 265\n",
      "Subjects and Marks:\n",
      "Math: 92\n",
      "History: 85\n",
      "Geography: 88\n",
      "Average Marks: 88.33\n",
      "------------\n",
      "\n",
      "Diana's Report Card\n",
      "Total Marks: 252\n",
      "Subjects and Marks:\n",
      "Math: 80\n",
      "Science: 87\n",
      "English: 85\n",
      "Average Marks: 84.00\n",
      "------------\n",
      "\n",
      "--- Student Management System Menu ---\n",
      "1. Display All Student Details\n",
      "2. Calculate Average Marks for a Student\n",
      "3. Generate Report Card for All Students\n",
      "4. Exit\n"
     ]
    },
    {
     "name": "stdin",
     "output_type": "stream",
     "text": [
      "Enter your choice (1/2/3/4):  4\n"
     ]
    },
    {
     "name": "stdout",
     "output_type": "stream",
     "text": [
      "Exiting the system. Goodbye!\n"
     ]
    }
   ],
   "source": [
    "# Student Management System using Nested Lists and Tuples\n",
    "\n",
    "# List of students, each student is represented by a list containing:\n",
    "# [Name of the student, a list of subjects, and a tuple of marks for each subject]\n",
    "\n",
    "students = [\n",
    "    [\"Alice\", [\"Math\", \"Science\", \"History\"], (85, 90, 88)],\n",
    "    [\"Bob\", [\"Math\", \"Science\", \"English\"], (78, 82, 80)],\n",
    "    [\"Charlie\", [\"Math\", \"History\", \"Geography\"], (92, 85, 88)],\n",
    "    [\"Diana\", [\"Math\", \"Science\", \"English\"], (80, 87, 85)]\n",
    "]\n",
    "\n",
    "# Function to display student details\n",
    "def display_student_details():\n",
    "    print(\"\\n--- Student Details ---\")\n",
    "    for student in students:\n",
    "        name = student[0]\n",
    "        subjects = student[1]\n",
    "        marks = student[2]\n",
    "        \n",
    "        print(f\"Name: {name}\")\n",
    "        for i in range(len(subjects)):\n",
    "            print(f\"{subjects[i]}: {marks[i]}\")\n",
    "        print()\n",
    "\n",
    "# Function to calculate and print the average marks of a student\n",
    "def calculate_average_marks(student_name):\n",
    "    for student in students:\n",
    "        if student[0] == student_name:\n",
    "            marks = student[2]\n",
    "            average = sum(marks) / len(marks)\n",
    "            print(f\"\\nAverage marks for {student_name}: {average:.2f}\")\n",
    "            return\n",
    "    print(f\"\\nStudent {student_name} not found.\")\n",
    "\n",
    "# Function to generate a report card for all students\n",
    "def generate_report_card():\n",
    "    print(\"\\n--- Report Card ---\")\n",
    "    for student in students:\n",
    "        name = student[0]\n",
    "        subjects = student[1]\n",
    "        marks = student[2]\n",
    "        \n",
    "        print(f\"\\n{name}'s Report Card\")\n",
    "        total_marks = sum(marks)\n",
    "        print(f\"Total Marks: {total_marks}\")\n",
    "        print(f\"Subjects and Marks:\")\n",
    "        for i in range(len(subjects)):\n",
    "            print(f\"{subjects[i]}: {marks[i]}\")\n",
    "        average = total_marks / len(subjects)\n",
    "        print(f\"Average Marks: {average:.2f}\")\n",
    "        print(\"------------\")\n",
    "\n",
    "# Main menu to interact with the system\n",
    "def main():\n",
    "    while True:\n",
    "        print(\"\\n--- Student Management System Menu ---\")\n",
    "        print(\"1. Display All Student Details\")\n",
    "        print(\"2. Calculate Average Marks for a Student\")\n",
    "        print(\"3. Generate Report Card for All Students\")\n",
    "        print(\"4. Exit\")\n",
    "        \n",
    "        choice = input(\"Enter your choice (1/2/3/4): \")\n",
    "        \n",
    "        if choice == '1':\n",
    "            display_student_details()\n",
    "        elif choice == '2':\n",
    "            student_name = input(\"Enter the student's name: \")\n",
    "            calculate_average_marks(student_name)\n",
    "        elif choice == '3':\n",
    "            generate_report_card()\n",
    "        elif choice == '4':\n",
    "            print(\"Exiting the system. Goodbye!\")\n",
    "            break\n",
    "        else:\n",
    "            print(\"Invalid choice, please try again.\")\n",
    "\n",
    "# Run the program\n",
    "if __name__ == \"__main__\":\n",
    "    main()"
   ]
  }
 ],
 "metadata": {
  "kernelspec": {
   "display_name": "Python 3 (ipykernel)",
   "language": "python",
   "name": "python3"
  },
  "language_info": {
   "codemirror_mode": {
    "name": "ipython",
    "version": 3
   },
   "file_extension": ".py",
   "mimetype": "text/x-python",
   "name": "python",
   "nbconvert_exporter": "python",
   "pygments_lexer": "ipython3",
   "version": "3.12.3"
  }
 },
 "nbformat": 4,
 "nbformat_minor": 5
}
